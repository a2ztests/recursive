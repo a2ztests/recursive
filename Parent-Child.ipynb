import pandas as pd

#df = pd.read_csv('\\popnasal08\Departments\FinancialApplications\Users\AP0IW\Derug_regulatory\Parent-Child.csv')
df = pd.read_csv('\\popnasal08/Departments/FinancialApplications/Users/AP0IW/Derug_regulatory/Parent-Child.csv')
#df = pd.read_csv('Parent-Child.csv')

df.head(20)

# Get DF to Graph(Dictionary representation) , and get graph roots
graph = dict(zip(df.ID, df.SON_ID))

LstOfIDs = df['ID'].tolist()
LstOfSonss = df['SON_ID'].tolist()

# A root has childs but not parents. I'll loop through all IDs and mark the ones whos not a child
roots = []
for idnum in LstOfIDs:
    if idnum not in LstOfSonss:
        roots.append(idnum)

print(roots)

# Loop from each root to his childrens, and create a set of root-child
PCdf = pd.DataFrame({}, columns=['Root', 'Child'])

for r in roots:
    MasterRoot = r
    while r > 0:
        PCdf.loc[PCdf.shape[0]] = [MasterRoot, r]
        r = graph[r]

PCdf.head(20)

# Final step - Join DF, so any ID get it's root
ndf = df.merge(PCdf, left_on='ID', right_on='Child', how='left')
ndf = ndf.drop('Child', axis=1)

ndf.head(20)
